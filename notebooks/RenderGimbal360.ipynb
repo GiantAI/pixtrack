{
 "cells": [
  {
   "cell_type": "code",
   "execution_count": 12,
   "id": "e3d95515",
   "metadata": {},
   "outputs": [],
   "source": [
    "import os\n",
    "import cv2\n",
    "import pycolmap\n",
    "from hloc.utils import viz_3d\n",
    "import numpy as np\n",
    "import pixtrack.utils.pose_utils as pose_utils\n",
    "from pixloc.utils.colmap import Camera as ColCamera\n",
    "from pixloc.pixlib.geometry import Camera as PixCamera, Pose\n",
    "import matplotlib.pyplot as plt\n",
    "from pixtrack.utils.ingp_utils import load_nerf2sfm, initialize_ingp, sfm_to_nerf_pose, nerf_to_sfm_pose\n",
    "from pixtrack.visualization.run_vis_on_poses import get_nerf_image\n",
    "from scipy.spatial.transform import Rotation as R"
   ]
  },
  {
   "cell_type": "code",
   "execution_count": 13,
   "id": "0592c0ee",
   "metadata": {},
   "outputs": [
    {
     "name": "stdout",
     "output_type": "stream",
     "text": [
      "02:57:42 \u001b[0;36mINFO     \u001b[0mLoading network config from: /data/pixtrack/instant-ngp/snapshots/gimble_04MAR2022/weights.msgpack\u001b[K\u001b[0m\n",
      "02:57:42 \u001b[0;36mINFO     \u001b[0mGridEncoding:  Nmin=16 b=1.44727 F=2 T=2^19 L=16\u001b[K\u001b[0m\n",
      "02:57:42 \u001b[0;36mINFO     \u001b[0mDensity model: 3--[HashGrid]-->32--[FullyFusedMLP(neurons=64,layers=3)]-->1\u001b[K\u001b[0m\n",
      "02:57:42 \u001b[0;36mINFO     \u001b[0mColor model:   3--[Composite]-->16+16--[FullyFusedMLP(neurons=64,layers=4)]-->3\u001b[K\u001b[0m\n",
      "02:57:42 \u001b[0;36mINFO     \u001b[0m  total_encoding_params=12599920 total_network_params=10240\u001b[K\u001b[0m\n"
     ]
    }
   ],
   "source": [
    "sfm_path = '/data/pixtrack/outputs/nerf_sfm/aug_gimble_04MAR2022/aug_sfm/'\n",
    "model = pycolmap.Reconstruction(sfm_path)\n",
    "\n",
    "\n",
    "nerf_path = '/data/pixtrack/instant-ngp/snapshots/gimble_04MAR2022/weights.msgpack'\n",
    "nerf2sfm_path = '/data/pixtrack/pixel-perfect-sfm/datasets/gimble_04MAR2022/nerf2sfm.pkl'\n",
    "nerf2sfm = load_nerf2sfm(nerf2sfm_path)\n",
    "testbed = initialize_ingp(nerf_path)"
   ]
  },
  {
   "cell_type": "code",
   "execution_count": 14,
   "id": "3b6cf312",
   "metadata": {},
   "outputs": [],
   "source": [
    "camera = model.cameras[1]\n",
    "camera = ColCamera(None, \n",
    "                camera.model_name,\n",
    "                int(camera.width),\n",
    "                int(camera.height),\n",
    "                camera.params)\n",
    "camera = PixCamera.from_colmap(camera)"
   ]
  },
  {
   "cell_type": "code",
   "execution_count": 15,
   "id": "8f7f9c8c",
   "metadata": {},
   "outputs": [],
   "source": [
    "all_imgs_in_altitude = []\n",
    "for i in range(33, 73):\n",
    "    all_imgs_in_altitude.append(f\"mapping/IMG_95{i}.png\")\n",
    "    \n",
    "render_poses = []\n",
    "for image_name in all_imgs_in_altitude:\n",
    "    image = model.find_image_with_name(image_name)\n",
    "    cIw = pose_utils.get_camera_in_world_from_colmap_image(image)\n",
    "    render_poses.append(sfm_to_nerf_pose(nerf2sfm, cIw))\n",
    "\n"
   ]
  },
  {
   "cell_type": "code",
   "execution_count": 16,
   "id": "2a589f0f",
   "metadata": {},
   "outputs": [
    {
     "name": "stdout",
     "output_type": "stream",
     "text": [
      "\u001b[33mWARNING: The directory '/home/saurabh.nair/.cache/pip' or its parent directory is not owned or is not writable by the current user. The cache has been disabled. Check the permissions and owner of that directory. If executing pip with sudo, you may want sudo's -H flag.\u001b[0m\n",
      "Requirement already satisfied: mediapy in /usr/local/lib/python3.8/dist-packages (1.0.3)\n",
      "Requirement already satisfied: Pillow in /usr/local/lib/python3.8/dist-packages (from mediapy) (9.1.0)\n",
      "Requirement already satisfied: ipython in /usr/local/lib/python3.8/dist-packages (from mediapy) (8.3.0)\n",
      "Requirement already satisfied: matplotlib in /usr/local/lib/python3.8/dist-packages (from mediapy) (3.5.2)\n",
      "Requirement already satisfied: numpy in /usr/local/lib/python3.8/dist-packages (from mediapy) (1.22.3)\n",
      "Requirement already satisfied: decorator in /usr/local/lib/python3.8/dist-packages (from ipython->mediapy) (5.1.1)\n",
      "Requirement already satisfied: prompt-toolkit!=3.0.0,!=3.0.1,<3.1.0,>=2.0.0 in /usr/local/lib/python3.8/dist-packages (from ipython->mediapy) (3.0.29)\n",
      "Requirement already satisfied: stack-data in /usr/local/lib/python3.8/dist-packages (from ipython->mediapy) (0.2.0)\n",
      "Requirement already satisfied: backcall in /usr/local/lib/python3.8/dist-packages (from ipython->mediapy) (0.2.0)\n",
      "Requirement already satisfied: jedi>=0.16 in /usr/local/lib/python3.8/dist-packages (from ipython->mediapy) (0.18.1)\n",
      "Requirement already satisfied: setuptools>=18.5 in /usr/lib/python3/dist-packages (from ipython->mediapy) (45.2.0)\n",
      "Requirement already satisfied: traitlets>=5 in /usr/local/lib/python3.8/dist-packages (from ipython->mediapy) (5.2.0)\n",
      "Requirement already satisfied: pickleshare in /usr/local/lib/python3.8/dist-packages (from ipython->mediapy) (0.7.5)\n",
      "Requirement already satisfied: matplotlib-inline in /usr/local/lib/python3.8/dist-packages (from ipython->mediapy) (0.1.3)\n",
      "Requirement already satisfied: pygments>=2.4.0 in /usr/local/lib/python3.8/dist-packages (from ipython->mediapy) (2.12.0)\n",
      "Requirement already satisfied: pexpect>4.3; sys_platform != \"win32\" in /usr/local/lib/python3.8/dist-packages (from ipython->mediapy) (4.8.0)\n",
      "Requirement already satisfied: pyparsing>=2.2.1 in /usr/local/lib/python3.8/dist-packages (from matplotlib->mediapy) (3.0.8)\n",
      "Requirement already satisfied: kiwisolver>=1.0.1 in /usr/local/lib/python3.8/dist-packages (from matplotlib->mediapy) (1.4.2)\n",
      "Requirement already satisfied: cycler>=0.10 in /usr/local/lib/python3.8/dist-packages (from matplotlib->mediapy) (0.11.0)\n",
      "Requirement already satisfied: fonttools>=4.22.0 in /usr/local/lib/python3.8/dist-packages (from matplotlib->mediapy) (4.33.3)\n",
      "Requirement already satisfied: packaging>=20.0 in /usr/local/lib/python3.8/dist-packages (from matplotlib->mediapy) (21.3)\n",
      "Requirement already satisfied: python-dateutil>=2.7 in /usr/local/lib/python3.8/dist-packages (from matplotlib->mediapy) (2.8.2)\n",
      "Requirement already satisfied: wcwidth in /usr/local/lib/python3.8/dist-packages (from prompt-toolkit!=3.0.0,!=3.0.1,<3.1.0,>=2.0.0->ipython->mediapy) (0.2.5)\n",
      "Requirement already satisfied: asttokens in /usr/local/lib/python3.8/dist-packages (from stack-data->ipython->mediapy) (2.0.5)\n",
      "Requirement already satisfied: executing in /usr/local/lib/python3.8/dist-packages (from stack-data->ipython->mediapy) (0.8.3)\n",
      "Requirement already satisfied: pure-eval in /usr/local/lib/python3.8/dist-packages (from stack-data->ipython->mediapy) (0.2.2)\n",
      "Requirement already satisfied: parso<0.9.0,>=0.8.0 in /usr/local/lib/python3.8/dist-packages (from jedi>=0.16->ipython->mediapy) (0.8.3)\n",
      "Requirement already satisfied: ptyprocess>=0.5 in /usr/local/lib/python3.8/dist-packages (from pexpect>4.3; sys_platform != \"win32\"->ipython->mediapy) (0.7.0)\n",
      "Requirement already satisfied: six>=1.5 in /usr/lib/python3/dist-packages (from python-dateutil>=2.7->matplotlib->mediapy) (1.14.0)\n"
     ]
    }
   ],
   "source": [
    "!pip3 install mediapy"
   ]
  },
  {
   "cell_type": "code",
   "execution_count": 18,
   "id": "3554e629",
   "metadata": {},
   "outputs": [],
   "source": [
    "from scipy.spatial.transform import Rotation as R\n",
    "from scipy.spatial.transform import Slerp"
   ]
  },
  {
   "cell_type": "code",
   "execution_count": null,
   "id": "278c7943",
   "metadata": {},
   "outputs": [],
   "source": [
    "image_renders = []\n",
    "intermediate_frames = 20\n",
    "for pose_number in range(len(render_poses)):\n",
    "    pose1 = render_poses[pose_number]\n",
    "    if pose_number+1<len(render_poses):\n",
    "        pose2 = render_poses[pose_number+1]\n",
    "        rotations = np.zeros((2, 3, 3))\n",
    "        rotations[0, :, :] = pose1[:3, :3]\n",
    "        rotations[1, :, :] = pose2[:3, :3]\n",
    "        translations_x = np.linspace(pose1[0, -1], pose2[0, -1], intermediate_frames)\n",
    "        translations_y = np.linspace(pose1[1, -1], pose2[1, -1], intermediate_frames)\n",
    "        translations_z = np.linspace(pose1[2, -1], pose2[2, -1], intermediate_frames)\n",
    "    else:\n",
    "        break\n",
    "\n",
    "    interpolation_times = np.arange(0, intermediate_frames).tolist()\n",
    "    key_times = [0, intermediate_frames-1]    \n",
    "    key_rotations = R.from_matrix(rotations)\n",
    "    slerp = Slerp(key_times, key_rotations)\n",
    "    intermediate_rotations = slerp(interpolation_times).as_matrix()\n",
    "    #print(translations_x.shape[0])\n",
    "    for pose_num in range(translations_x.shape[0]):\n",
    "        camera_pose = np.eye(4)\n",
    "        camera_pose[0, -1] = translations_x[pose_num]\n",
    "        camera_pose[1, -1] = translations_y[pose_num]\n",
    "        camera_pose[2, -1] = translations_z[pose_num]\n",
    "        camera_pose[:3, :3] = intermediate_rotations[pose_num, :, :]\n",
    "        nerf_img = get_nerf_image(testbed,camera_pose, camera)\n",
    "        image_renders.append(nerf_img)\n"
   ]
  },
  {
   "cell_type": "code",
   "execution_count": null,
   "id": "d41b2c74",
   "metadata": {},
   "outputs": [],
   "source": [
    "mediapy.show_video(image_renders, width=320, height=240, fps=10)"
   ]
  },
  {
   "cell_type": "code",
   "execution_count": null,
   "id": "174a5f38",
   "metadata": {},
   "outputs": [],
   "source": []
  },
  {
   "cell_type": "code",
   "execution_count": null,
   "id": "da0a1cd8",
   "metadata": {},
   "outputs": [],
   "source": []
  },
  {
   "cell_type": "code",
   "execution_count": null,
   "id": "d59b5121",
   "metadata": {},
   "outputs": [],
   "source": []
  }
 ],
 "metadata": {
  "kernelspec": {
   "display_name": "Python 3 (ipykernel)",
   "language": "python",
   "name": "python3"
  },
  "language_info": {
   "codemirror_mode": {
    "name": "ipython",
    "version": 3
   },
   "file_extension": ".py",
   "mimetype": "text/x-python",
   "name": "python",
   "nbconvert_exporter": "python",
   "pygments_lexer": "ipython3",
   "version": "3.8.10"
  }
 },
 "nbformat": 4,
 "nbformat_minor": 5
}
