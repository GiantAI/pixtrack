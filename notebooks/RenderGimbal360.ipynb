{
 "cells": [
  {
   "cell_type": "code",
   "execution_count": 1,
   "id": "7ab95fdf",
   "metadata": {},
   "outputs": [],
   "source": [
    "import os\n",
    "import cv2\n",
    "import pycolmap\n",
    "from hloc.utils import viz_3d\n",
    "import numpy as np\n",
    "import pixtrack.utils.pose_utils as pose_utils\n",
    "from pixloc.utils.colmap import Camera as ColCamera\n",
    "from pixloc.pixlib.geometry import Camera as PixCamera, Pose\n",
    "import matplotlib.pyplot as plt\n",
    "from pixtrack.utils.ingp_utils import load_nerf2sfm, initialize_ingp, sfm_to_nerf_pose, nerf_to_sfm_pose\n",
    "from pixtrack.visualization.run_vis_on_poses import get_nerf_image\n",
    "from scipy.spatial.transform import Rotation as R"
   ]
  },
  {
   "cell_type": "code",
   "execution_count": 60,
   "id": "769dd363",
   "metadata": {},
   "outputs": [
    {
     "name": "stdout",
     "output_type": "stream",
     "text": [
      "05:21:25 \u001b[0;36mINFO     \u001b[0mLoading network config from: /data/pixtrack/instant-ngp/snapshots/gimble_04MAR2022/weights.msgpack\u001b[K\u001b[0m\n",
      "05:21:25 \u001b[0;36mINFO     \u001b[0mGridEncoding:  Nmin=16 b=1.44727 F=2 T=2^19 L=16\u001b[K\u001b[0m\n",
      "05:21:25 \u001b[0;36mINFO     \u001b[0mDensity model: 3--[HashGrid]-->32--[FullyFusedMLP(neurons=64,layers=3)]-->1\u001b[K\u001b[0m\n",
      "05:21:25 \u001b[0;36mINFO     \u001b[0mColor model:   3--[Composite]-->16+16--[FullyFusedMLP(neurons=64,layers=4)]-->3\u001b[K\u001b[0m\n",
      "05:21:25 \u001b[0;36mINFO     \u001b[0m  total_encoding_params=12599920 total_network_params=10240\u001b[K\u001b[0m\n"
     ]
    }
   ],
   "source": [
    "sfm_path = '/data/pixtrack/outputs/nerf_sfm/aug_gimble_04MAR2022/aug_sfm/'\n",
    "model = pycolmap.Reconstruction(sfm_path)\n",
    "\n",
    "\n",
    "nerf_path = '/data/pixtrack/instant-ngp/snapshots/gimble_04MAR2022/weights.msgpack'\n",
    "nerf2sfm_path = '/data/pixtrack/pixel-perfect-sfm/datasets/gimble_04MAR2022/nerf2sfm.pkl'\n",
    "nerf2sfm = load_nerf2sfm(nerf2sfm_path)\n",
    "aabb_with_table = [[0.090, -0.493, -0.113], [0.895, 0.065, 0.714]] # this is for the gimbal\n",
    "testbed = initialize_ingp(nerf_path)#, aabb=aabb_with_table)"
   ]
  },
  {
   "cell_type": "code",
   "execution_count": 61,
   "id": "3bd616d6",
   "metadata": {},
   "outputs": [],
   "source": [
    "camera = model.cameras[1]\n",
    "camera = ColCamera(None, \n",
    "                camera.model_name,\n",
    "                int(camera.width),\n",
    "                int(camera.height),\n",
    "                camera.params)\n",
    "camera = PixCamera.from_colmap(camera)"
   ]
  },
  {
   "cell_type": "code",
   "execution_count": 62,
   "id": "19e4fc3a",
   "metadata": {},
   "outputs": [],
   "source": [
    "all_imgs_in_altitude = []\n",
    "for i in range(33, 73):\n",
    "    all_imgs_in_altitude.append(f\"mapping/IMG_95{i}.png\")\n",
    "render_poses = []\n",
    "all_images = []\n",
    "for image_name in all_imgs_in_altitude:\n",
    "    image = model.find_image_with_name(image_name)\n",
    "    cIw = pose_utils.get_camera_in_world_from_colmap_image(image)\n",
    "    render_poses.append(sfm_to_nerf_pose(nerf2sfm, cIw))\n",
    "    all_images_in_altitude.append(image)\n",
    "\n"
   ]
  },
  {
   "cell_type": "code",
   "execution_count": 63,
   "id": "5d9bd0c9",
   "metadata": {},
   "outputs": [
    {
     "name": "stdout",
     "output_type": "stream",
     "text": [
      "\u001b[33mWARNING: The directory '/home/saurabh.nair/.cache/pip' or its parent directory is not owned or is not writable by the current user. The cache has been disabled. Check the permissions and owner of that directory. If executing pip with sudo, you may want sudo's -H flag.\u001b[0m\n",
      "Requirement already satisfied: mediapy in /usr/local/lib/python3.8/dist-packages (1.0.3)\n",
      "Requirement already satisfied: matplotlib in /usr/local/lib/python3.8/dist-packages (from mediapy) (3.5.2)\n",
      "Requirement already satisfied: Pillow in /usr/local/lib/python3.8/dist-packages (from mediapy) (9.1.0)\n",
      "Requirement already satisfied: ipython in /usr/local/lib/python3.8/dist-packages (from mediapy) (8.3.0)\n",
      "Requirement already satisfied: numpy in /usr/local/lib/python3.8/dist-packages (from mediapy) (1.22.3)\n",
      "Requirement already satisfied: pyparsing>=2.2.1 in /usr/local/lib/python3.8/dist-packages (from matplotlib->mediapy) (3.0.8)\n",
      "Requirement already satisfied: python-dateutil>=2.7 in /usr/local/lib/python3.8/dist-packages (from matplotlib->mediapy) (2.8.2)\n",
      "Requirement already satisfied: kiwisolver>=1.0.1 in /usr/local/lib/python3.8/dist-packages (from matplotlib->mediapy) (1.4.2)\n",
      "Requirement already satisfied: cycler>=0.10 in /usr/local/lib/python3.8/dist-packages (from matplotlib->mediapy) (0.11.0)\n",
      "Requirement already satisfied: packaging>=20.0 in /usr/local/lib/python3.8/dist-packages (from matplotlib->mediapy) (21.3)\n",
      "Requirement already satisfied: fonttools>=4.22.0 in /usr/local/lib/python3.8/dist-packages (from matplotlib->mediapy) (4.33.3)\n",
      "Requirement already satisfied: stack-data in /usr/local/lib/python3.8/dist-packages (from ipython->mediapy) (0.2.0)\n",
      "Requirement already satisfied: prompt-toolkit!=3.0.0,!=3.0.1,<3.1.0,>=2.0.0 in /usr/local/lib/python3.8/dist-packages (from ipython->mediapy) (3.0.29)\n",
      "Requirement already satisfied: traitlets>=5 in /usr/local/lib/python3.8/dist-packages (from ipython->mediapy) (5.2.0)\n",
      "Requirement already satisfied: decorator in /usr/local/lib/python3.8/dist-packages (from ipython->mediapy) (5.1.1)\n",
      "Requirement already satisfied: jedi>=0.16 in /usr/local/lib/python3.8/dist-packages (from ipython->mediapy) (0.18.1)\n",
      "Requirement already satisfied: pygments>=2.4.0 in /usr/local/lib/python3.8/dist-packages (from ipython->mediapy) (2.12.0)\n",
      "Requirement already satisfied: pexpect>4.3; sys_platform != \"win32\" in /usr/local/lib/python3.8/dist-packages (from ipython->mediapy) (4.8.0)\n",
      "Requirement already satisfied: backcall in /usr/local/lib/python3.8/dist-packages (from ipython->mediapy) (0.2.0)\n",
      "Requirement already satisfied: matplotlib-inline in /usr/local/lib/python3.8/dist-packages (from ipython->mediapy) (0.1.3)\n",
      "Requirement already satisfied: setuptools>=18.5 in /usr/lib/python3/dist-packages (from ipython->mediapy) (45.2.0)\n",
      "Requirement already satisfied: pickleshare in /usr/local/lib/python3.8/dist-packages (from ipython->mediapy) (0.7.5)\n",
      "Requirement already satisfied: six>=1.5 in /usr/lib/python3/dist-packages (from python-dateutil>=2.7->matplotlib->mediapy) (1.14.0)\n",
      "Requirement already satisfied: pure-eval in /usr/local/lib/python3.8/dist-packages (from stack-data->ipython->mediapy) (0.2.2)\n",
      "Requirement already satisfied: asttokens in /usr/local/lib/python3.8/dist-packages (from stack-data->ipython->mediapy) (2.0.5)\n",
      "Requirement already satisfied: executing in /usr/local/lib/python3.8/dist-packages (from stack-data->ipython->mediapy) (0.8.3)\n",
      "Requirement already satisfied: wcwidth in /usr/local/lib/python3.8/dist-packages (from prompt-toolkit!=3.0.0,!=3.0.1,<3.1.0,>=2.0.0->ipython->mediapy) (0.2.5)\n",
      "Requirement already satisfied: parso<0.9.0,>=0.8.0 in /usr/local/lib/python3.8/dist-packages (from jedi>=0.16->ipython->mediapy) (0.8.3)\n",
      "Requirement already satisfied: ptyprocess>=0.5 in /usr/local/lib/python3.8/dist-packages (from pexpect>4.3; sys_platform != \"win32\"->ipython->mediapy) (0.7.0)\n"
     ]
    }
   ],
   "source": [
    "!pip3 install mediapy"
   ]
  },
  {
   "cell_type": "code",
   "execution_count": 64,
   "id": "0f94598a",
   "metadata": {},
   "outputs": [],
   "source": [
    "from scipy.spatial.transform import Rotation as R\n",
    "from scipy.spatial.transform import Slerp"
   ]
  },
  {
   "cell_type": "code",
   "execution_count": 65,
   "id": "68fdf352",
   "metadata": {},
   "outputs": [],
   "source": [
    "import mediapy"
   ]
  },
  {
   "cell_type": "code",
   "execution_count": 90,
   "id": "a9ac347c",
   "metadata": {},
   "outputs": [],
   "source": [
    "testbed.nerf.sharpen = 1\n",
    "testbed.background_color = [0.3, 0.3, 0.3, 0.3]\n",
    "testbed.exposure = 0.2"
   ]
  },
  {
   "cell_type": "code",
   "execution_count": 91,
   "id": "b23e8fb3",
   "metadata": {},
   "outputs": [
    {
     "name": "stdout",
     "output_type": "stream",
     "text": [
      "[0, 1, 2]\n",
      "[0, 1, 2]\n",
      "[0, 1, 2]\n",
      "[0, 1, 2]\n"
     ]
    }
   ],
   "source": [
    "image_renders = []\n",
    "intermediate_frames = 3\n",
    "#for pose_number in range(len(render_poses) - 1):\n",
    "for pose_number in range(4):\n",
    "\n",
    "    pose1 = render_poses[pose_number]\n",
    "    pose2 = render_poses[pose_number+1]\n",
    "    rotations = np.zeros((2, 3, 3))\n",
    "    rotations[0, :, :] = pose1[:3, :3]\n",
    "    rotations[1, :, :] = pose2[:3, :3]\n",
    "    translations_x = np.linspace(pose1[0, -1], pose2[0, -1], intermediate_frames)\n",
    "    translations_y = np.linspace(pose1[1, -1], pose2[1, -1], intermediate_frames)\n",
    "    translations_z = np.linspace(pose1[2, -1], pose2[2, -1], intermediate_frames)\n",
    "\n",
    "    interpolation_times = np.arange(0, intermediate_frames).tolist()\n",
    "    print(interpolation_times)\n",
    "    key_times = [0, intermediate_frames-1]    \n",
    "    key_rotations = R.from_matrix(rotations)\n",
    "    slerp = Slerp(key_times, key_rotations)\n",
    "    intermediate_rotations = slerp(interpolation_times).as_matrix()\n",
    "    #print(translations_x.shape[0])\n",
    "    #import pdb; pdb.set_trace()\n",
    "\n",
    "    for pose_num in range(translations_x.shape[0] - 1):\n",
    "        camera_pose = np.eye(4)\n",
    "        camera_pose[0, -1] = translations_x[pose_num]\n",
    "        camera_pose[1, -1] = translations_y[pose_num]\n",
    "        camera_pose[2, -1] = translations_z[pose_num]\n",
    "        camera_pose[:3, :3] = intermediate_rotations[pose_num, :, :]\n",
    "        nerf_img = get_nerf_image(testbed, camera_pose, camera)\n",
    "        image_renders.append(nerf_img)\n"
   ]
  },
  {
   "cell_type": "code",
   "execution_count": 2,
   "id": "7cf7cf21",
   "metadata": {},
   "outputs": [
    {
     "name": "stdout",
     "output_type": "stream",
     "text": [
      "\u001b[33mWARNING: The directory '/home/saurabh.nair/.cache/pip' or its parent directory is not owned or is not writable by the current user. The cache has been disabled. Check the permissions and owner of that directory. If executing pip with sudo, you may want sudo's -H flag.\u001b[0m\n",
      "Collecting mediapy\n",
      "  Downloading mediapy-1.0.3-py3-none-any.whl (24 kB)\n",
      "Requirement already satisfied: ipython in /usr/local/lib/python3.8/dist-packages (from mediapy) (8.3.0)\n",
      "Requirement already satisfied: matplotlib in /usr/local/lib/python3.8/dist-packages (from mediapy) (3.5.2)\n",
      "Requirement already satisfied: Pillow in /usr/local/lib/python3.8/dist-packages (from mediapy) (9.1.0)\n",
      "Requirement already satisfied: numpy in /usr/local/lib/python3.8/dist-packages (from mediapy) (1.22.3)\n",
      "Requirement already satisfied: pexpect>4.3; sys_platform != \"win32\" in /usr/local/lib/python3.8/dist-packages (from ipython->mediapy) (4.8.0)\n",
      "Requirement already satisfied: pygments>=2.4.0 in /usr/local/lib/python3.8/dist-packages (from ipython->mediapy) (2.12.0)\n",
      "Requirement already satisfied: stack-data in /usr/local/lib/python3.8/dist-packages (from ipython->mediapy) (0.2.0)\n",
      "Requirement already satisfied: matplotlib-inline in /usr/local/lib/python3.8/dist-packages (from ipython->mediapy) (0.1.3)\n",
      "Requirement already satisfied: jedi>=0.16 in /usr/local/lib/python3.8/dist-packages (from ipython->mediapy) (0.18.1)\n",
      "Requirement already satisfied: backcall in /usr/local/lib/python3.8/dist-packages (from ipython->mediapy) (0.2.0)\n",
      "Requirement already satisfied: prompt-toolkit!=3.0.0,!=3.0.1,<3.1.0,>=2.0.0 in /usr/local/lib/python3.8/dist-packages (from ipython->mediapy) (3.0.29)\n",
      "Requirement already satisfied: setuptools>=18.5 in /usr/lib/python3/dist-packages (from ipython->mediapy) (45.2.0)\n",
      "Requirement already satisfied: pickleshare in /usr/local/lib/python3.8/dist-packages (from ipython->mediapy) (0.7.5)\n",
      "Requirement already satisfied: traitlets>=5 in /usr/local/lib/python3.8/dist-packages (from ipython->mediapy) (5.2.0)\n",
      "Requirement already satisfied: decorator in /usr/local/lib/python3.8/dist-packages (from ipython->mediapy) (5.1.1)\n",
      "Requirement already satisfied: pyparsing>=2.2.1 in /usr/local/lib/python3.8/dist-packages (from matplotlib->mediapy) (3.0.8)\n",
      "Requirement already satisfied: kiwisolver>=1.0.1 in /usr/local/lib/python3.8/dist-packages (from matplotlib->mediapy) (1.4.2)\n",
      "Requirement already satisfied: cycler>=0.10 in /usr/local/lib/python3.8/dist-packages (from matplotlib->mediapy) (0.11.0)\n",
      "Requirement already satisfied: packaging>=20.0 in /usr/local/lib/python3.8/dist-packages (from matplotlib->mediapy) (21.3)\n",
      "Requirement already satisfied: fonttools>=4.22.0 in /usr/local/lib/python3.8/dist-packages (from matplotlib->mediapy) (4.33.3)\n",
      "Requirement already satisfied: python-dateutil>=2.7 in /usr/local/lib/python3.8/dist-packages (from matplotlib->mediapy) (2.8.2)\n",
      "Requirement already satisfied: ptyprocess>=0.5 in /usr/local/lib/python3.8/dist-packages (from pexpect>4.3; sys_platform != \"win32\"->ipython->mediapy) (0.7.0)\n",
      "Requirement already satisfied: asttokens in /usr/local/lib/python3.8/dist-packages (from stack-data->ipython->mediapy) (2.0.5)\n",
      "Requirement already satisfied: executing in /usr/local/lib/python3.8/dist-packages (from stack-data->ipython->mediapy) (0.8.3)\n",
      "Requirement already satisfied: pure-eval in /usr/local/lib/python3.8/dist-packages (from stack-data->ipython->mediapy) (0.2.2)\n",
      "Requirement already satisfied: parso<0.9.0,>=0.8.0 in /usr/local/lib/python3.8/dist-packages (from jedi>=0.16->ipython->mediapy) (0.8.3)\n",
      "Requirement already satisfied: wcwidth in /usr/local/lib/python3.8/dist-packages (from prompt-toolkit!=3.0.0,!=3.0.1,<3.1.0,>=2.0.0->ipython->mediapy) (0.2.5)\n",
      "Requirement already satisfied: six>=1.5 in /usr/lib/python3/dist-packages (from python-dateutil>=2.7->matplotlib->mediapy) (1.14.0)\n",
      "Installing collected packages: mediapy\n",
      "Successfully installed mediapy-1.0.3\n"
     ]
    },
    {
     "ename": "NameError",
     "evalue": "name 'image_renders' is not defined",
     "output_type": "error",
     "traceback": [
      "\u001b[0;31m---------------------------------------------------------------------------\u001b[0m",
      "\u001b[0;31mNameError\u001b[0m                                 Traceback (most recent call last)",
      "Input \u001b[0;32mIn [2]\u001b[0m, in \u001b[0;36m<cell line: 3>\u001b[0;34m()\u001b[0m\n\u001b[1;32m      1\u001b[0m get_ipython()\u001b[38;5;241m.\u001b[39msystem(\u001b[38;5;124m'\u001b[39m\u001b[38;5;124mpip3 install mediapy\u001b[39m\u001b[38;5;124m'\u001b[39m)\n\u001b[1;32m      2\u001b[0m \u001b[38;5;28;01mimport\u001b[39;00m \u001b[38;5;21;01mmediapy\u001b[39;00m\n\u001b[0;32m----> 3\u001b[0m mediapy\u001b[38;5;241m.\u001b[39mshow_video(\u001b[43mimage_renders\u001b[49m, width\u001b[38;5;241m=\u001b[39m\u001b[38;5;241m320\u001b[39m, height\u001b[38;5;241m=\u001b[39m\u001b[38;5;241m240\u001b[39m, fps\u001b[38;5;241m=\u001b[39m\u001b[38;5;241m1\u001b[39m)\n",
      "\u001b[0;31mNameError\u001b[0m: name 'image_renders' is not defined"
     ]
    }
   ],
   "source": [
    "!pip3 install mediapy\n",
    "import mediapy\n",
    "mediapy.show_video(image_renders, width=320, height=240, fps=1)\n",
    "#mediapy.write_video(images=image_renders, path=\"/data/pixtrack/outputs/gimbal_assets/without_chessboard.mp4\")"
   ]
  },
  {
   "cell_type": "code",
   "execution_count": 93,
   "id": "2ab3f097",
   "metadata": {},
   "outputs": [
    {
     "name": "stdout",
     "output_type": "stream",
     "text": [
      "mkdir: cannot create directory ‘/data/pixtrack/outputs/gimbal_assets’: File exists\r\n"
     ]
    }
   ],
   "source": [
    "!mkdir /data/pixtrack/outputs/gimbal_assets"
   ]
  },
  {
   "cell_type": "code",
   "execution_count": null,
   "id": "10164dee",
   "metadata": {},
   "outputs": [],
   "source": []
  },
  {
   "cell_type": "code",
   "execution_count": null,
   "id": "63b18888",
   "metadata": {},
   "outputs": [],
   "source": []
  },
  {
   "cell_type": "code",
   "execution_count": null,
   "id": "00517245",
   "metadata": {},
   "outputs": [],
   "source": []
  },
  {
   "cell_type": "code",
   "execution_count": null,
   "id": "cc84142e",
   "metadata": {},
   "outputs": [],
   "source": []
  },
  {
   "cell_type": "code",
   "execution_count": null,
   "id": "0aa755fc",
   "metadata": {},
   "outputs": [],
   "source": []
  },
  {
   "cell_type": "code",
   "execution_count": null,
   "id": "d043da48",
   "metadata": {},
   "outputs": [],
   "source": []
  },
  {
   "cell_type": "code",
   "execution_count": null,
   "id": "5e1f4747",
   "metadata": {},
   "outputs": [],
   "source": []
  },
  {
   "cell_type": "code",
   "execution_count": null,
   "id": "5347bb28",
   "metadata": {},
   "outputs": [],
   "source": []
  },
  {
   "cell_type": "code",
   "execution_count": null,
   "id": "4009c491",
   "metadata": {},
   "outputs": [],
   "source": []
  },
  {
   "cell_type": "code",
   "execution_count": null,
   "id": "931988f5",
   "metadata": {},
   "outputs": [],
   "source": []
  }
 ],
 "metadata": {
  "kernelspec": {
   "display_name": "Python 3 (ipykernel)",
   "language": "python",
   "name": "python3"
  },
  "language_info": {
   "codemirror_mode": {
    "name": "ipython",
    "version": 3
   },
   "file_extension": ".py",
   "mimetype": "text/x-python",
   "name": "python",
   "nbconvert_exporter": "python",
   "pygments_lexer": "ipython3",
   "version": "3.8.10"
  }
 },
 "nbformat": 4,
 "nbformat_minor": 5
}
