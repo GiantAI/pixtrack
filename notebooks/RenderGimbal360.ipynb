{
 "cells": [
  {
   "cell_type": "code",
   "execution_count": 1,
   "id": "7ab95fdf",
   "metadata": {},
   "outputs": [],
   "source": [
    "import os\n",
    "import cv2\n",
    "import pycolmap\n",
    "from hloc.utils import viz_3d\n",
    "import numpy as np\n",
    "import pixtrack.utils.pose_utils as pose_utils\n",
    "from pixloc.utils.colmap import Camera as ColCamera\n",
    "from pixloc.pixlib.geometry import Camera as PixCamera, Pose\n",
    "import matplotlib.pyplot as plt\n",
    "from pixtrack.utils.ingp_utils import load_nerf2sfm, initialize_ingp, sfm_to_nerf_pose, nerf_to_sfm_pose\n",
    "from pixtrack.visualization.run_vis_on_poses import get_nerf_image\n",
    "from scipy.spatial.transform import Rotation as R"
   ]
  },
  {
   "cell_type": "code",
   "execution_count": 60,
   "id": "769dd363",
   "metadata": {},
   "outputs": [
    {
     "name": "stdout",
     "output_type": "stream",
     "text": [
      "05:21:25 \u001b[0;36mINFO     \u001b[0mLoading network config from: /data/pixtrack/instant-ngp/snapshots/gimble_04MAR2022/weights.msgpack\u001b[K\u001b[0m\n",
      "05:21:25 \u001b[0;36mINFO     \u001b[0mGridEncoding:  Nmin=16 b=1.44727 F=2 T=2^19 L=16\u001b[K\u001b[0m\n",
      "05:21:25 \u001b[0;36mINFO     \u001b[0mDensity model: 3--[HashGrid]-->32--[FullyFusedMLP(neurons=64,layers=3)]-->1\u001b[K\u001b[0m\n",
      "05:21:25 \u001b[0;36mINFO     \u001b[0mColor model:   3--[Composite]-->16+16--[FullyFusedMLP(neurons=64,layers=4)]-->3\u001b[K\u001b[0m\n",
      "05:21:25 \u001b[0;36mINFO     \u001b[0m  total_encoding_params=12599920 total_network_params=10240\u001b[K\u001b[0m\n"
     ]
    }
   ],
   "source": [
    "sfm_path = '/data/pixtrack/outputs/nerf_sfm/aug_gimble_04MAR2022/aug_sfm/'\n",
    "model = pycolmap.Reconstruction(sfm_path)\n",
    "\n",
    "\n",
    "nerf_path = '/data/pixtrack/instant-ngp/snapshots/gimble_04MAR2022/weights.msgpack'\n",
    "nerf2sfm_path = '/data/pixtrack/pixel-perfect-sfm/datasets/gimble_04MAR2022/nerf2sfm.pkl'\n",
    "nerf2sfm = load_nerf2sfm(nerf2sfm_path)\n",
    "aabb_with_table = [[0.090, -0.493, -0.113], [0.895, 0.065, 0.714]] # this is for the gimbal\n",
    "testbed = initialize_ingp(nerf_path)#, aabb=aabb_with_table)"
   ]
  },
  {
   "cell_type": "code",
   "execution_count": 61,
   "id": "3bd616d6",
   "metadata": {},
   "outputs": [],
   "source": [
    "camera = model.cameras[1]\n",
    "camera = ColCamera(None, \n",
    "                camera.model_name,\n",
    "                int(camera.width),\n",
    "                int(camera.height),\n",
    "                camera.params)\n",
    "camera = PixCamera.from_colmap(camera)"
   ]
  },
  {
   "cell_type": "code",
   "execution_count": 62,
   "id": "19e4fc3a",
   "metadata": {},
   "outputs": [],
   "source": [
    "all_imgs_in_altitude = []\n",
    "for i in range(33, 73):\n",
    "    all_imgs_in_altitude.append(f\"mapping/IMG_95{i}.png\")\n",
    "render_poses = []\n",
    "all_images = []\n",
    "for image_name in all_imgs_in_altitude:\n",
    "    image = model.find_image_with_name(image_name)\n",
    "    cIw = pose_utils.get_camera_in_world_from_colmap_image(image)\n",
    "    render_poses.append(sfm_to_nerf_pose(nerf2sfm, cIw))\n",
    "    all_images_in_altitude.append(image)\n",
    "\n"
   ]
  },
  {
   "cell_type": "code",
   "execution_count": 63,
   "id": "5d9bd0c9",
   "metadata": {},
   "outputs": [
    {
     "name": "stdout",
     "output_type": "stream",
     "text": [
      "\u001b[33mWARNING: The directory '/home/saurabh.nair/.cache/pip' or its parent directory is not owned or is not writable by the current user. The cache has been disabled. Check the permissions and owner of that directory. If executing pip with sudo, you may want sudo's -H flag.\u001b[0m\n",
      "Requirement already satisfied: mediapy in /usr/local/lib/python3.8/dist-packages (1.0.3)\n",
      "Requirement already satisfied: matplotlib in /usr/local/lib/python3.8/dist-packages (from mediapy) (3.5.2)\n",
      "Requirement already satisfied: Pillow in /usr/local/lib/python3.8/dist-packages (from mediapy) (9.1.0)\n",
      "Requirement already satisfied: ipython in /usr/local/lib/python3.8/dist-packages (from mediapy) (8.3.0)\n",
      "Requirement already satisfied: numpy in /usr/local/lib/python3.8/dist-packages (from mediapy) (1.22.3)\n",
      "Requirement already satisfied: pyparsing>=2.2.1 in /usr/local/lib/python3.8/dist-packages (from matplotlib->mediapy) (3.0.8)\n",
      "Requirement already satisfied: python-dateutil>=2.7 in /usr/local/lib/python3.8/dist-packages (from matplotlib->mediapy) (2.8.2)\n",
      "Requirement already satisfied: kiwisolver>=1.0.1 in /usr/local/lib/python3.8/dist-packages (from matplotlib->mediapy) (1.4.2)\n",
      "Requirement already satisfied: cycler>=0.10 in /usr/local/lib/python3.8/dist-packages (from matplotlib->mediapy) (0.11.0)\n",
      "Requirement already satisfied: packaging>=20.0 in /usr/local/lib/python3.8/dist-packages (from matplotlib->mediapy) (21.3)\n",
      "Requirement already satisfied: fonttools>=4.22.0 in /usr/local/lib/python3.8/dist-packages (from matplotlib->mediapy) (4.33.3)\n",
      "Requirement already satisfied: stack-data in /usr/local/lib/python3.8/dist-packages (from ipython->mediapy) (0.2.0)\n",
      "Requirement already satisfied: prompt-toolkit!=3.0.0,!=3.0.1,<3.1.0,>=2.0.0 in /usr/local/lib/python3.8/dist-packages (from ipython->mediapy) (3.0.29)\n",
      "Requirement already satisfied: traitlets>=5 in /usr/local/lib/python3.8/dist-packages (from ipython->mediapy) (5.2.0)\n",
      "Requirement already satisfied: decorator in /usr/local/lib/python3.8/dist-packages (from ipython->mediapy) (5.1.1)\n",
      "Requirement already satisfied: jedi>=0.16 in /usr/local/lib/python3.8/dist-packages (from ipython->mediapy) (0.18.1)\n",
      "Requirement already satisfied: pygments>=2.4.0 in /usr/local/lib/python3.8/dist-packages (from ipython->mediapy) (2.12.0)\n",
      "Requirement already satisfied: pexpect>4.3; sys_platform != \"win32\" in /usr/local/lib/python3.8/dist-packages (from ipython->mediapy) (4.8.0)\n",
      "Requirement already satisfied: backcall in /usr/local/lib/python3.8/dist-packages (from ipython->mediapy) (0.2.0)\n",
      "Requirement already satisfied: matplotlib-inline in /usr/local/lib/python3.8/dist-packages (from ipython->mediapy) (0.1.3)\n",
      "Requirement already satisfied: setuptools>=18.5 in /usr/lib/python3/dist-packages (from ipython->mediapy) (45.2.0)\n",
      "Requirement already satisfied: pickleshare in /usr/local/lib/python3.8/dist-packages (from ipython->mediapy) (0.7.5)\n",
      "Requirement already satisfied: six>=1.5 in /usr/lib/python3/dist-packages (from python-dateutil>=2.7->matplotlib->mediapy) (1.14.0)\n",
      "Requirement already satisfied: pure-eval in /usr/local/lib/python3.8/dist-packages (from stack-data->ipython->mediapy) (0.2.2)\n",
      "Requirement already satisfied: asttokens in /usr/local/lib/python3.8/dist-packages (from stack-data->ipython->mediapy) (2.0.5)\n",
      "Requirement already satisfied: executing in /usr/local/lib/python3.8/dist-packages (from stack-data->ipython->mediapy) (0.8.3)\n",
      "Requirement already satisfied: wcwidth in /usr/local/lib/python3.8/dist-packages (from prompt-toolkit!=3.0.0,!=3.0.1,<3.1.0,>=2.0.0->ipython->mediapy) (0.2.5)\n",
      "Requirement already satisfied: parso<0.9.0,>=0.8.0 in /usr/local/lib/python3.8/dist-packages (from jedi>=0.16->ipython->mediapy) (0.8.3)\n",
      "Requirement already satisfied: ptyprocess>=0.5 in /usr/local/lib/python3.8/dist-packages (from pexpect>4.3; sys_platform != \"win32\"->ipython->mediapy) (0.7.0)\n"
     ]
    }
   ],
   "source": [
    "!pip3 install mediapy"
   ]
  },
  {
   "cell_type": "code",
   "execution_count": 64,
   "id": "0f94598a",
   "metadata": {},
   "outputs": [],
   "source": [
    "from scipy.spatial.transform import Rotation as R\n",
    "from scipy.spatial.transform import Slerp"
   ]
  },
  {
   "cell_type": "code",
   "execution_count": 65,
   "id": "68fdf352",
   "metadata": {},
   "outputs": [],
   "source": [
    "import mediapy"
   ]
  },
  {
   "cell_type": "code",
   "execution_count": 90,
   "id": "a9ac347c",
   "metadata": {},
   "outputs": [],
   "source": [
    "testbed.nerf.sharpen = 1\n",
    "testbed.background_color = [0.3, 0.3, 0.3, 0.3]\n",
    "testbed.exposure = 0.2"
   ]
  },
  {
   "cell_type": "code",
   "execution_count": 91,
   "id": "b23e8fb3",
   "metadata": {},
   "outputs": [
    {
     "name": "stdout",
     "output_type": "stream",
     "text": [
      "[0, 1, 2]\n",
      "[0, 1, 2]\n",
      "[0, 1, 2]\n",
      "[0, 1, 2]\n"
     ]
    }
   ],
   "source": [
    "image_renders = []\n",
    "intermediate_frames = 3\n",
    "#for pose_number in range(len(render_poses) - 1):\n",
    "for pose_number in range(4):\n",
    "\n",
    "    pose1 = render_poses[pose_number]\n",
    "    pose2 = render_poses[pose_number+1]\n",
    "    rotations = np.zeros((2, 3, 3))\n",
    "    rotations[0, :, :] = pose1[:3, :3]\n",
    "    rotations[1, :, :] = pose2[:3, :3]\n",
    "    translations_x = np.linspace(pose1[0, -1], pose2[0, -1], intermediate_frames)\n",
    "    translations_y = np.linspace(pose1[1, -1], pose2[1, -1], intermediate_frames)\n",
    "    translations_z = np.linspace(pose1[2, -1], pose2[2, -1], intermediate_frames)\n",
    "\n",
    "    interpolation_times = np.arange(0, intermediate_frames).tolist()\n",
    "    print(interpolation_times)\n",
    "    key_times = [0, intermediate_frames-1]    \n",
    "    key_rotations = R.from_matrix(rotations)\n",
    "    slerp = Slerp(key_times, key_rotations)\n",
    "    intermediate_rotations = slerp(interpolation_times).as_matrix()\n",
    "    #print(translations_x.shape[0])\n",
    "    #import pdb; pdb.set_trace()\n",
    "\n",
    "    for pose_num in range(translations_x.shape[0] - 1):\n",
    "        camera_pose = np.eye(4)\n",
    "        camera_pose[0, -1] = translations_x[pose_num]\n",
    "        camera_pose[1, -1] = translations_y[pose_num]\n",
    "        camera_pose[2, -1] = translations_z[pose_num]\n",
    "        camera_pose[:3, :3] = intermediate_rotations[pose_num, :, :]\n",
    "        nerf_img = get_nerf_image(testbed, camera_pose, camera)\n",
    "        image_renders.append(nerf_img)\n"
   ]
  },
  {
   "cell_type": "code",
   "execution_count": 92,
   "id": "7cf7cf21",
   "metadata": {},
   "outputs": [
    {
     "data": {
      "text/html": [
       "<table class=\"show_videos\" style=\"border-spacing:0px;\"><tr><td style=\"padding:1px;\"><video controls width=\"320\" height=\"240\" style=\"object-fit:cover;\" loop autoplay>\n",
       "      <source src=\"data:video/mp4;base64,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\" type=\"video/mp4\"/>\n",
       "      This browser does not support the video tag.\n",
       "      </video></td></tr></table>"
      ],
      "text/plain": [
       "<IPython.core.display.HTML object>"
      ]
     },
     "metadata": {},
     "output_type": "display_data"
    }
   ],
   "source": [
    "import mediapy\n",
    "mediapy.show_video(image_renders, width=320, height=240, fps=1)\n",
    "#mediapy.write_video(images=image_renders, path=\"/data/pixtrack/outputs/gimbal_assets/without_chessboard.mp4\")"
   ]
  },
  {
   "cell_type": "code",
   "execution_count": 93,
   "id": "2ab3f097",
   "metadata": {},
   "outputs": [
    {
     "name": "stdout",
     "output_type": "stream",
     "text": [
      "mkdir: cannot create directory ‘/data/pixtrack/outputs/gimbal_assets’: File exists\r\n"
     ]
    }
   ],
   "source": [
    "!mkdir /data/pixtrack/outputs/gimbal_assets"
   ]
  },
  {
   "cell_type": "code",
   "execution_count": null,
   "id": "10164dee",
   "metadata": {},
   "outputs": [],
   "source": []
  },
  {
   "cell_type": "code",
   "execution_count": null,
   "id": "63b18888",
   "metadata": {},
   "outputs": [],
   "source": []
  },
  {
   "cell_type": "code",
   "execution_count": null,
   "id": "00517245",
   "metadata": {},
   "outputs": [],
   "source": []
  },
  {
   "cell_type": "code",
   "execution_count": null,
   "id": "cc84142e",
   "metadata": {},
   "outputs": [],
   "source": []
  },
  {
   "cell_type": "code",
   "execution_count": null,
   "id": "0aa755fc",
   "metadata": {},
   "outputs": [],
   "source": []
  },
  {
   "cell_type": "code",
   "execution_count": null,
   "id": "d043da48",
   "metadata": {},
   "outputs": [],
   "source": []
  },
  {
   "cell_type": "code",
   "execution_count": null,
   "id": "5e1f4747",
   "metadata": {},
   "outputs": [],
   "source": []
  },
  {
   "cell_type": "code",
   "execution_count": null,
   "id": "5347bb28",
   "metadata": {},
   "outputs": [],
   "source": []
  },
  {
   "cell_type": "code",
   "execution_count": null,
   "id": "4009c491",
   "metadata": {},
   "outputs": [],
   "source": []
  },
  {
   "cell_type": "code",
   "execution_count": null,
   "id": "931988f5",
   "metadata": {},
   "outputs": [],
   "source": []
  }
 ],
 "metadata": {
  "kernelspec": {
   "display_name": "Python 3 (ipykernel)",
   "language": "python",
   "name": "python3"
  },
  "language_info": {
   "codemirror_mode": {
    "name": "ipython",
    "version": 3
   },
   "file_extension": ".py",
   "mimetype": "text/x-python",
   "name": "python",
   "nbconvert_exporter": "python",
   "pygments_lexer": "ipython3",
   "version": "3.8.10"
  }
 },
 "nbformat": 4,
 "nbformat_minor": 5
}
