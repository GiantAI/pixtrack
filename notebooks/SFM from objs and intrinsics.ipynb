{
 "cells": [
  {
   "cell_type": "code",
   "execution_count": 1,
   "id": "3b9c05bc",
   "metadata": {},
   "outputs": [],
   "source": [
    "from pixtrack.utils.pytorch3d_render_utils import (\n",
    "    render_image, \n",
    "    create_colmap_camera,\n",
    "    create_colmap_image_from_pytorch3d_RT,\n",
    "    create_look_at_camera_poses\n",
    ")\n",
    "from pathlib import Path\n",
    "import math\n",
    "from pytorch3d.io import load_objs_as_meshes\n",
    "import torch\n",
    "from tqdm import tqdm\n",
    "import numpy as np\n",
    "import cv2"
   ]
  },
  {
   "cell_type": "code",
   "execution_count": 2,
   "id": "ed334273",
   "metadata": {},
   "outputs": [],
   "source": [
    "def render_dataset_and_get_colmap_images_and_cameras(\n",
    "    mesh_path, dataset_path, fx, fy, cx, cy, W, H, k1, device, subdivisions=2\n",
    "):\n",
    "    Rs, Ts, mesh = create_look_at_poses_for_mesh_2(\n",
    "        fx, fy, W, H, mesh_path, subdivisions=subdivisions, device=device\n",
    "    )\n",
    "    dataset_path.mkdir(parents=True, exist_ok=True)\n",
    "    mapping_path = dataset_path / \"mapping\"\n",
    "    mapping_path.mkdir(parents=True, exist_ok=True)\n",
    "    colmap_images = {}\n",
    "    colmap_camera_id = 1\n",
    "    colmap_camera = create_colmap_camera(W, H, fx, cx, cy, k1)\n",
    "    colmap_cameras = {colmap_camera_id: colmap_camera}\n",
    "    for i in tqdm(range(Rs.shape[0])):\n",
    "        R = Rs[i]\n",
    "        T = Ts[i]\n",
    "        image = render_image(mesh, fx, fy, cx, cy, W, H, R.unsqueeze(0), T.unsqueeze(0))\n",
    "        image = (image[..., :3] * 255.0).astype(np.uint8)\n",
    "        image = cv2.cvtColor(image, cv2.COLOR_RGB2BGR)\n",
    "        img_name = (\"%d.png\" % (i + 1)).zfill(8)\n",
    "        cv2.imwrite(str(mapping_path / img_name), image)\n",
    "\n",
    "        colmap_image_name = \"mapping/\" + img_name\n",
    "        colmap_image_id = i + 1\n",
    "        colmap_image = create_colmap_image_from_pytorch3d_RT(\n",
    "            R, T, colmap_image_name, colmap_image_id, colmap_camera_id\n",
    "        )\n",
    "        colmap_images[colmap_image_id] = colmap_image\n",
    "    return colmap_images, colmap_cameras"
   ]
  },
  {
   "cell_type": "code",
   "execution_count": 3,
   "id": "88cb50d8",
   "metadata": {},
   "outputs": [],
   "source": [
    "def create_look_at_poses_for_mesh_2(\n",
    "    fx, fy, W, H, mesh_path, subdivisions=2, device=torch.device(\"cuda:0\")\n",
    "):\n",
    "    mesh = load_objs_as_meshes([mesh_path], device=device)\n",
    "    torch.min(mesh.verts_list()[0], dim=0).values\n",
    "    mesh_min = torch.min(mesh.verts_list()[0], dim=0).values\n",
    "    mesh_max = torch.max(mesh.verts_list()[0], dim=0).values\n",
    "    max_dist = torch.sqrt(torch.sum((mesh_max - mesh_min) ** 2))\n",
    "    radius = float(max_dist) / 2.\n",
    "    dist = get_camera_distance(radius, fx, fy, W, H)\n",
    "    Rs, Ts = create_look_at_camera_poses(dist, subdivisions)\n",
    "    return Rs, Ts, mesh"
   ]
  },
  {
   "cell_type": "code",
   "execution_count": 4,
   "id": "7d5ff26c",
   "metadata": {},
   "outputs": [],
   "source": [
    "def get_camera_distance(radius, fx, fy, W, H):\n",
    "    angle_x = math.atan(W / (fx * 2))\n",
    "    angle_y = math.atan(H / (fy * 2))\n",
    "    #fovx = angle_x * 180 / math.pi\n",
    "    #fovy = angle_y * 180 / math.pi\n",
    "    d = max(radius / math.sin(angle_x), radius / math.sin(angle_y))\n",
    "    return d\n",
    "    "
   ]
  },
  {
   "cell_type": "code",
   "execution_count": 5,
   "id": "fcf294c9",
   "metadata": {},
   "outputs": [],
   "source": [
    "fx = 1.066778e+03\n",
    "fy = 1.066778e+03\n",
    "cx = 3.129869e+02\n",
    "cy = 2.413109e+02\n",
    "W = 640\n",
    "H = 480\n",
    "k1 = 0.0\n",
    "mesh_path = Path('/data/ycb/models/003_cracker_box/textured.obj')\n",
    "dataset_path = Path('/data/test/')\n",
    "if torch.cuda.is_available():\n",
    "    device = torch.device(\"cuda:0\")\n",
    "    torch.cuda.set_device(device)\n",
    "else:\n",
    "    device = torch.device(\"cpu\")"
   ]
  },
  {
   "cell_type": "code",
   "execution_count": 6,
   "id": "1d0e4f60",
   "metadata": {},
   "outputs": [
    {
     "name": "stderr",
     "output_type": "stream",
     "text": [
      "100%|██████████████████████████████████████████████████████████| 162/162 [00:16<00:00,  9.74it/s]\n"
     ]
    }
   ],
   "source": [
    "colmap_images, colmap_cameras = render_dataset_and_get_colmap_images_and_cameras(\n",
    "        mesh_path, dataset_path, fx, fy, cx, cy, W, H, k1, device\n",
    "    )"
   ]
  },
  {
   "cell_type": "code",
   "execution_count": null,
   "id": "f895960f",
   "metadata": {},
   "outputs": [],
   "source": [
    "image = render_image(mesh, fx, fy, cx, cy, W, H, R.unsqueeze(0), T.unsqueeze(0))"
   ]
  }
 ],
 "metadata": {
  "kernelspec": {
   "display_name": "Python 3 (ipykernel)",
   "language": "python",
   "name": "python3"
  },
  "language_info": {
   "codemirror_mode": {
    "name": "ipython",
    "version": 3
   },
   "file_extension": ".py",
   "mimetype": "text/x-python",
   "name": "python",
   "nbconvert_exporter": "python",
   "pygments_lexer": "ipython3",
   "version": "3.8.10"
  }
 },
 "nbformat": 4,
 "nbformat_minor": 5
}
