{
 "cells": [
  {
   "cell_type": "code",
   "execution_count": null,
   "id": "747c4920",
   "metadata": {},
   "outputs": [],
   "source": [
    "!pip install ycbvideo"
   ]
  },
  {
   "cell_type": "code",
   "execution_count": null,
   "id": "0dad5e14",
   "metadata": {},
   "outputs": [],
   "source": [
    "import ycbvideo"
   ]
  },
  {
   "cell_type": "code",
   "execution_count": null,
   "id": "11220911",
   "metadata": {},
   "outputs": [],
   "source": [
    "loader = ycbvideo.Loader('/mnt/remote/data/prajwal/YCB_Video_Dataset/')"
   ]
  },
  {
   "cell_type": "code",
   "execution_count": null,
   "id": "59c71fd9",
   "metadata": {},
   "outputs": [],
   "source": [
    "import plotly.express as px"
   ]
  },
  {
   "cell_type": "code",
   "execution_count": null,
   "id": "742e918f",
   "metadata": {},
   "outputs": [],
   "source": [
    "from ycbvideo.frame_access import FrameAccessor\n",
    "\n",
    "frame_accessor = FrameAccessor('/mnt/remote/data/prajwal/YCB_Video_Dataset/')\n",
    "\n",
    "frame = frame_accessor.get_frame((7, 42))"
   ]
  },
  {
   "cell_type": "code",
   "execution_count": null,
   "id": "45e1062f",
   "metadata": {},
   "outputs": [],
   "source": [
    "frame = frame_accessor.get_frame((7, 2000))\n",
    "fig = px.imshow(frame.color)\n",
    "fig.show()"
   ]
  },
  {
   "cell_type": "code",
   "execution_count": null,
   "id": "9d57a2b1",
   "metadata": {},
   "outputs": [],
   "source": [
    "frame_1 = loader.frames(['35/1'])"
   ]
  },
  {
   "cell_type": "code",
   "execution_count": null,
   "id": "6b150545",
   "metadata": {},
   "outputs": [],
   "source": [
    "frame_1 = loader.frames(['7/1'])"
   ]
  },
  {
   "cell_type": "code",
   "execution_count": null,
   "id": "7267f1ce",
   "metadata": {},
   "outputs": [],
   "source": [
    "frame_1[0].color.shape"
   ]
  },
  {
   "cell_type": "code",
   "execution_count": null,
   "id": "3d751803",
   "metadata": {},
   "outputs": [],
   "source": [
    "frame_1[0].meta"
   ]
  },
  {
   "cell_type": "code",
   "execution_count": null,
   "id": "0452b5f4",
   "metadata": {},
   "outputs": [],
   "source": [
    "len(frame_1)"
   ]
  },
  {
   "cell_type": "code",
   "execution_count": null,
   "id": "baa692fe",
   "metadata": {},
   "outputs": [],
   "source": [
    "fig = px.imshow(img_cv)\n",
    "fig.show()"
   ]
  },
  {
   "cell_type": "code",
   "execution_count": null,
   "id": "557384fd",
   "metadata": {},
   "outputs": [],
   "source": [
    "import numpy as np\n",
    "np.unique(frame_1[0].label)"
   ]
  },
  {
   "cell_type": "code",
   "execution_count": null,
   "id": "0cfddca5",
   "metadata": {},
   "outputs": [],
   "source": []
  },
  {
   "cell_type": "code",
   "execution_count": null,
   "id": "bef45e70",
   "metadata": {},
   "outputs": [],
   "source": []
  },
  {
   "cell_type": "code",
   "execution_count": null,
   "id": "3f7725d5",
   "metadata": {},
   "outputs": [],
   "source": [
    "nf = frame_1[100].color * (frame_1[100].label == 2).astype(np.uint8)[:, :, np.newaxis]"
   ]
  },
  {
   "cell_type": "code",
   "execution_count": null,
   "id": "487c90b5",
   "metadata": {},
   "outputs": [],
   "source": [
    "fig = px.imshow(nf)\n",
    "fig.show()"
   ]
  },
  {
   "cell_type": "code",
   "execution_count": null,
   "id": "21a06a74",
   "metadata": {},
   "outputs": [],
   "source": [
    "fig = px.imshow(frame_1[0].color)\n",
    "fig.show()"
   ]
  },
  {
   "cell_type": "code",
   "execution_count": null,
   "id": "23652d6f",
   "metadata": {},
   "outputs": [],
   "source": [
    "98, 126, 113"
   ]
  },
  {
   "cell_type": "code",
   "execution_count": null,
   "id": "c9dee6fd",
   "metadata": {},
   "outputs": [],
   "source": [
    "!pip install mediapy"
   ]
  },
  {
   "cell_type": "code",
   "execution_count": null,
   "id": "9898a95e",
   "metadata": {},
   "outputs": [],
   "source": [
    "import mediapy"
   ]
  },
  {
   "cell_type": "code",
   "execution_count": null,
   "id": "a089f5ce",
   "metadata": {},
   "outputs": [],
   "source": [
    "dir(frame_1[0])"
   ]
  },
  {
   "cell_type": "code",
   "execution_count": null,
   "id": "ad7ed7b7",
   "metadata": {},
   "outputs": [],
   "source": [
    "frame_1[0].meta"
   ]
  },
  {
   "cell_type": "code",
   "execution_count": null,
   "id": "0f9c6052",
   "metadata": {},
   "outputs": [],
   "source": []
  },
  {
   "cell_type": "code",
   "execution_count": null,
   "id": "ebc5bd00",
   "metadata": {},
   "outputs": [],
   "source": [
    "len(frame_1)"
   ]
  },
  {
   "cell_type": "code",
   "execution_count": null,
   "id": "02917e89",
   "metadata": {},
   "outputs": [],
   "source": [
    "mediapy.show_video([x.color for x in frame_1])"
   ]
  },
  {
   "cell_type": "code",
   "execution_count": null,
   "id": "8abd3b5f",
   "metadata": {},
   "outputs": [],
   "source": [
    "import cv2\n",
    "img_cv = cv2.imread('/data/ycb/data/0007/000100-color.png')"
   ]
  },
  {
   "cell_type": "code",
   "execution_count": null,
   "id": "ee757e48",
   "metadata": {},
   "outputs": [],
   "source": []
  },
  {
   "cell_type": "code",
   "execution_count": null,
   "id": "36bf8a70",
   "metadata": {},
   "outputs": [],
   "source": [
    "frames[0].description"
   ]
  },
  {
   "cell_type": "code",
   "execution_count": null,
   "id": "d0d66190",
   "metadata": {
    "scrolled": false
   },
   "outputs": [],
   "source": [
    "for frame in frame_1:\n",
    "    print(frame.description)\n",
    "    fig = px.imshow(frame.color)\n",
    "    fig.show()\n",
    "    "
   ]
  },
  {
   "cell_type": "code",
   "execution_count": null,
   "id": "a832e853",
   "metadata": {},
   "outputs": [],
   "source": []
  }
 ],
 "metadata": {
  "kernelspec": {
   "display_name": "Python 3 (ipykernel)",
   "language": "python",
   "name": "python3"
  },
  "language_info": {
   "codemirror_mode": {
    "name": "ipython",
    "version": 3
   },
   "file_extension": ".py",
   "mimetype": "text/x-python",
   "name": "python",
   "nbconvert_exporter": "python",
   "pygments_lexer": "ipython3",
   "version": "3.8.10"
  }
 },
 "nbformat": 4,
 "nbformat_minor": 5
}
