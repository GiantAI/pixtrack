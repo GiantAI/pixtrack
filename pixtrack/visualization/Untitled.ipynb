{
 "cells": [
  {
   "cell_type": "code",
   "execution_count": 1,
   "id": "9afdfc1a",
   "metadata": {},
   "outputs": [],
   "source": [
    "from merge_nerf_images import *"
   ]
  },
  {
   "cell_type": "code",
   "execution_count": 2,
   "id": "2281365c",
   "metadata": {},
   "outputs": [],
   "source": [
    "images1 = read_images_from_folder(\"/data/pixtrack/outputs/four_objects/eric_desk_3/gimble/contour/\")\n",
    "images2 = read_images_from_folder(\"/data/pixtrack/eric_desk_three_objects/\")\n",
    "\n",
    "assert len(images1) == len(images2), f\"{len(images1)}, {len(images2)}\"\n",
    "merged_images = merge_images(images1, images2)"
   ]
  },
  {
   "cell_type": "code",
   "execution_count": 3,
   "id": "7fea67d6",
   "metadata": {},
   "outputs": [],
   "source": [
    "Image.fromarray(merged_images[0])\n",
    "import re"
   ]
  },
  {
   "cell_type": "code",
   "execution_count": 4,
   "id": "1e9e4a1d",
   "metadata": {},
   "outputs": [
    {
     "data": {
      "text/plain": [
       "341"
      ]
     },
     "execution_count": 4,
     "metadata": {},
     "output_type": "execute_result"
    }
   ],
   "source": [
    "import re\n",
    "regex = re.compile(r'\\d+')\n",
    "int(regex.findall(os.path.splitext(os.listdir(\"/data/pixtrack/eric_desk_three_objects/\")[0])[0])[0])"
   ]
  },
  {
   "cell_type": "code",
   "execution_count": null,
   "id": "e6eec2e1",
   "metadata": {},
   "outputs": [],
   "source": []
  }
 ],
 "metadata": {
  "kernelspec": {
   "display_name": "Python 3 (ipykernel)",
   "language": "python",
   "name": "python3"
  },
  "language_info": {
   "codemirror_mode": {
    "name": "ipython",
    "version": 3
   },
   "file_extension": ".py",
   "mimetype": "text/x-python",
   "name": "python",
   "nbconvert_exporter": "python",
   "pygments_lexer": "ipython3",
   "version": "3.8.10"
  }
 },
 "nbformat": 4,
 "nbformat_minor": 5
}
